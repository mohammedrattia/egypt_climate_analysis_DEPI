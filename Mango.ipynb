{
 "cells": [
  {
   "cell_type": "code",
   "execution_count": 1,
   "metadata": {},
   "outputs": [
    {
     "data": {
      "text/plain": [
       "Index(['Unnamed: 0', 'LAT', 'LON', 'YEAR', 'DOY', 'EVLAND', 'GWETPROF',\n",
       "       'GWETROOT', 'GWETTOP', 'PRECSNO', 'PRECTOTCORR', 'QV2M', 'RH2M', 'RHOA',\n",
       "       'T10M', 'T10M_MAX', 'T10M_MIN', 'T2M', 'T2M_MAX', 'T2M_MIN', 'TO3',\n",
       "       'TS', 'TSOIL1', 'TSOIL2', 'TSOIL3', 'TSOIL4', 'TSOIL5', 'TSOIL6',\n",
       "       'TS_MAX', 'TS_MIN', 'WD2M', 'WD50M', 'WS2M', 'WS2M_MAX', 'WS2M_MIN',\n",
       "       'WS50M', 'WS50M_MAX', 'WS50M_MIN', 'Z0M', 'GOV', 'City', 'Date', 'Week',\n",
       "       'Month'],\n",
       "      dtype='object')"
      ]
     },
     "execution_count": 1,
     "metadata": {},
     "output_type": "execute_result"
    }
   ],
   "source": [
    "#Mango\t180\t180\t2\t4\t0.5\t3\t5\t1\t25\t35\t15\t0.016\t65\t20\t15\t25\t24\t32\t18\t25\t34\t20\t28\t26\t25\t24\t23\t22\t0\t700\t25\t0.7\t0.6\t0.8\t6\t6\t30\t2.5\t1\t1.4\t270\t200\t0.7\t6\t0.15\t\n",
    "import pandas as pd\n",
    "\n",
    "df=pd.read_csv(\"data/fullWithLocations_FINAL_large.csv\")\n",
    "df.columns"
   ]
  },
  {
   "cell_type": "code",
   "execution_count": null,
   "metadata": {},
   "outputs": [
    {
     "name": "stdout",
     "output_type": "stream",
     "text": [
      "Found 0 suitable mango-growing locations:\n",
      "Empty DataFrame\n",
      "Columns: [LON, LAT]\n",
      "Index: []\n"
     ]
    }
   ],
   "source": [
    "Mango_df_Locations = df[\n",
    "    \n",
    "    (df[\"WS2M\"].between(1.0, 2.5)) & \n",
    "    (df[\"WS2M_MAX\"].between(2.5, 4.0)) & \n",
    "    (df[\"WS2M_MIN\"].between(0.5, 1.0)) &\n",
    "    \n",
    "    \n",
    "    (df[\"TS\"].between(25, 35)) & \n",
    "    (df[\"TS_MAX\"].between(30, 40)) & \n",
    "    (df[\"TS_MIN\"].between(20, 25)) & \n",
    "    (df[\"T2M\"].between(25, 35)) &\n",
    "    (df[\"T2M_MAX\"].between(30, 40)) &\n",
    "    (df[\"T2M_MIN\"].between(20, 25)) &\n",
    "    (df[\"T10M\"].between(22, 28)) &\n",
    "    (df[\"T10M_MAX\"].between(28, 35)) &\n",
    "    (df[\"T10M_MIN\"].between(18, 22)) &\n",
    "    \n",
    "    (df[\"RH2M\"].between(60, 70)) & \n",
    "    (df[\"QV2M\"].between(0.014, 0.020)) &\n",
    "    \n",
    "    (df[\"TSOIL1\"].between(25, 28)) &\n",
    "    (df[\"TSOIL2\"].between(28, 32)) &\n",
    "    (df[\"TSOIL3\"].between(25, 28)) &\n",
    "    (df[\"TSOIL4\"].between(23, 25)) &\n",
    "    (df[\"TSOIL5\"].between(21, 23)) &\n",
    "    (df[\"TSOIL6\"].between(19, 21)) &\n",
    "    \n",
    "\n",
    "    (df[\"PRECTOTCORR\"].between(700, 900)) & \n",
    "    (df[\"GWETPROF\"].between(0.7, 0.9)) & \n",
    "    (df[\"GWETROOT\"].between(0.6, 0.8)) & \n",
    "    (df[\"GWETTOP\"].between(0.8, 1.0)) &\n",
    "    \n",
    "    # Solar/radiation parameters\n",
    "    #(df[\"ALLSKY_SFC_SW_DWN\"].between(5.5, 7.0)) &\n",
    "    #(df[\"ALLSKY_SFC_UV_INDEX\"].between(6, 8)) &\n",
    "    #(df[\"ALLSKY_SFC_UVA\"].between(30, 40)) &\n",
    "    #(df[\"ALLSKY_SFC_UVB\"].between(2.5, 3.5)) &\n",
    "    \n",
    "    (df[\"MIDDAY_INSOL\"].between(260, 300) if \"MIDDAY_INSOL\" in df.columns else True)\n",
    "]\n",
    "\n",
    "# Get unique coordinates\n",
    "suitable_locations_For_Mango = Mango_df_Locations[[\"LON\", \"LAT\"]].drop_duplicates()\n",
    "\n",
    "print(f\"Found {len(suitable_locations_For_Mango)} suitable mango-growing locations:\")\n",
    "print(suitable_locations_For_Mango)"
   ]
  }
 ],
 "metadata": {
  "kernelspec": {
   "display_name": "Python 3",
   "language": "python",
   "name": "python3"
  },
  "language_info": {
   "codemirror_mode": {
    "name": "ipython",
    "version": 3
   },
   "file_extension": ".py",
   "mimetype": "text/x-python",
   "name": "python",
   "nbconvert_exporter": "python",
   "pygments_lexer": "ipython3",
   "version": "3.11.9"
  }
 },
 "nbformat": 4,
 "nbformat_minor": 2
}
